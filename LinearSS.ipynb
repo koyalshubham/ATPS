{
 "cells": [
  {
   "cell_type": "code",
   "execution_count": 1,
   "metadata": {},
   "outputs": [],
   "source": [
    "from scipy.interpolate import lagrange\n",
    "import numpy as np\n",
    "import random\n",
    "from random import randint\n",
    "from numpy.polynomial.polynomial import Polynomial as Poly\n",
    "import numpy.polynomial.polynomial as polynomial\n",
    "import pandas as pd"
   ]
  },
  {
   "cell_type": "code",
   "execution_count": 2,
   "metadata": {},
   "outputs": [
    {
     "data": {
      "text/html": [
       "<div>\n",
       "<style scoped>\n",
       "    .dataframe tbody tr th:only-of-type {\n",
       "        vertical-align: middle;\n",
       "    }\n",
       "\n",
       "    .dataframe tbody tr th {\n",
       "        vertical-align: top;\n",
       "    }\n",
       "\n",
       "    .dataframe thead th {\n",
       "        text-align: right;\n",
       "    }\n",
       "</style>\n",
       "<table border=\"1\" class=\"dataframe\">\n",
       "  <thead>\n",
       "    <tr style=\"text-align: right;\">\n",
       "      <th></th>\n",
       "      <th>Age</th>\n",
       "      <th>Height</th>\n",
       "    </tr>\n",
       "  </thead>\n",
       "  <tbody>\n",
       "    <tr>\n",
       "      <th>0</th>\n",
       "      <td>2</td>\n",
       "      <td>4</td>\n",
       "    </tr>\n",
       "    <tr>\n",
       "      <th>1</th>\n",
       "      <td>3</td>\n",
       "      <td>5</td>\n",
       "    </tr>\n",
       "    <tr>\n",
       "      <th>2</th>\n",
       "      <td>5</td>\n",
       "      <td>7</td>\n",
       "    </tr>\n",
       "    <tr>\n",
       "      <th>3</th>\n",
       "      <td>7</td>\n",
       "      <td>10</td>\n",
       "    </tr>\n",
       "    <tr>\n",
       "      <th>4</th>\n",
       "      <td>9</td>\n",
       "      <td>15</td>\n",
       "    </tr>\n",
       "  </tbody>\n",
       "</table>\n",
       "</div>"
      ],
      "text/plain": [
       "   Age  Height\n",
       "0    2       4\n",
       "1    3       5\n",
       "2    5       7\n",
       "3    7      10\n",
       "4    9      15"
      ]
     },
     "execution_count": 2,
     "metadata": {},
     "output_type": "execute_result"
    }
   ],
   "source": [
    "data = [[2, 4], [3, 5], [5, 7] , [7, 10 ] , [9, 15]] \n",
    "  \n",
    "# Create a dataframe from the list data\n",
    "df = pd.DataFrame(data, columns = ['Age', 'Height']) \n",
    "  \n",
    "# print the dataframe. \n",
    "df "
   ]
  },
  {
   "cell_type": "code",
   "execution_count": 3,
   "metadata": {},
   "outputs": [],
   "source": [
    "# initialize variables\n",
    "degree = 4\n",
    "N = 10\n",
    "P = 41\n",
    "SHARE_POINTS = [ p for p in range(1, N+1) ]\n",
    "LAGRANGE_POINTS = [ l for l in range(1, 2*degree+1) ]"
   ]
  },
  {
   "cell_type": "code",
   "execution_count": 4,
   "metadata": {},
   "outputs": [],
   "source": [
    "# calculates the lagrange basis polynomial coefficients\n",
    "def lagrange_coefficients(points):\n",
    "    def P(x):\n",
    "        l_coefficients = []\n",
    "        n = len(points)\n",
    "        for i in range(n):\n",
    "            xi = points[i]\n",
    "\n",
    "            def g(i, n):\n",
    "\n",
    "                tot_mul = 1\n",
    "                for j in range(n):\n",
    "                    if i == j:\n",
    "                        continue\n",
    "                    xj = points[j]\n",
    "                    tot_mul *= (x - xj) / float(xi - xj)\n",
    "\n",
    "                return tot_mul \n",
    "\n",
    "            l_coefficients.append( round(g(i, n), 1 ) )\n",
    "        return l_coefficients\n",
    "    return P"
   ]
  },
  {
   "cell_type": "code",
   "execution_count": 5,
   "metadata": {},
   "outputs": [],
   "source": [
    "# Given the list of shares named \"numbers\", calcultes the sum \n",
    "def addition(numbers):\n",
    "    total = 0\n",
    "    arrays_of_numbers = [ np.array(num)[:degree] for num in numbers ]\n",
    "    for item in arrays_of_numbers:\n",
    "        total += item\n",
    "    z = Share()\n",
    "    z.shares = list(total)\n",
    "    z.degree = degree\n",
    "    return z\n",
    "    \n",
    "# Given a list of shares named numbers, calculates the subtraction\n",
    "def subtraction(numbers):\n",
    "    \n",
    "    arrays_of_numbers = [ np.array(num)[:degree] for num in numbers ]\n",
    "    arrays_of_numbers = np.array(arrays_of_numbers)\n",
    "    arrays_of_numbers = arrays_of_numbers.astype(np.float)\n",
    "    total = arrays_of_numbers[0]\n",
    "    for count,item in enumerate(arrays_of_numbers):\n",
    "        if count == 0:\n",
    "            continue\n",
    "        total -= item\n",
    "    \n",
    "        \n",
    "    z = Share()\n",
    "    z.shares = list(total)\n",
    "    z.degree = degree\n",
    "    return z\n",
    "\n",
    "def multiplication(x,y):\n",
    "\n",
    "    b = lagrange_coefficients(LAGRANGE_POINTS)(0)\n",
    "    z = Share()\n",
    "    z.degree = 2*degree\n",
    "    x = Share(reconstruct_polynomial(x))\n",
    "    y = Share(reconstruct_polynomial(y))\n",
    "    xShares = np.array(x.shares)[:z.degree]\n",
    "    yShares = np.array(y.shares)[:z.degree]\n",
    "    total = xShares * yShares * b\n",
    "    z = Share(round(sum(total),1))\n",
    "    return z\n",
    "\n",
    "def division(x,y):\n",
    "    x = Share(reconstruct_polynomial(x))\n",
    "    y = Share(1/reconstruct_polynomial(y))\n",
    "    z = Share()\n",
    "    z.degree = 2*degree\n",
    "    xShares = np.array(x.shares)[:z.degree]\n",
    "    yShares = np.array(y.shares)[:z.degree]\n",
    "    total = xShares * yShares\n",
    "    z.shares = list(total)\n",
    "    return z"
   ]
  },
  {
   "cell_type": "code",
   "execution_count": 6,
   "metadata": {},
   "outputs": [],
   "source": [
    "class Share():\n",
    "    \n",
    "    def __init__(self, secret=None):\n",
    "        self.shares = create_shares(secret) if secret is not None else []\n",
    "        self.degree = degree\n",
    "        self.secret = secret"
   ]
  },
  {
   "cell_type": "code",
   "execution_count": 7,
   "metadata": {},
   "outputs": [],
   "source": [
    "def create_polynomial(secret):\n",
    "    coefficients = [randint(1, P-1) for coef in range(degree)]\n",
    "    coefficients[-1] = secret\n",
    "    polynomial = np.poly1d(coefficients)\n",
    "    return polynomial"
   ]
  },
  {
   "cell_type": "code",
   "execution_count": 8,
   "metadata": {},
   "outputs": [],
   "source": [
    "def reconstruct_polynomial(z):\n",
    "    points = [i for i in range(1, z.degree+1) ]\n",
    "    poly = lagrange(points, z.shares)\n",
    "    return round(poly(0),2)\n"
   ]
  },
  {
   "cell_type": "code",
   "execution_count": 9,
   "metadata": {},
   "outputs": [],
   "source": [
    "def create_shares(secret):\n",
    "    #create the polynomial\n",
    "    polynomial = create_polynomial(secret)\n",
    "    shares = [ polynomial(i) for i in SHARE_POINTS]\n",
    "    return shares"
   ]
  },
  {
   "cell_type": "code",
   "execution_count": 10,
   "metadata": {},
   "outputs": [],
   "source": [
    "# calculate the sum of all ages\n",
    "AllAges = df.loc[:,'Age']\n",
    "numbers = Share()\n",
    "numbers = [ Share(num).shares for num in list(AllAges) ]\n",
    "sumAge = addition(numbers)"
   ]
  },
  {
   "cell_type": "code",
   "execution_count": 11,
   "metadata": {},
   "outputs": [
    {
     "data": {
      "text/plain": [
       "26.0"
      ]
     },
     "execution_count": 11,
     "metadata": {},
     "output_type": "execute_result"
    }
   ],
   "source": [
    "reconstruct_polynomial(sumAge)"
   ]
  },
  {
   "cell_type": "code",
   "execution_count": 12,
   "metadata": {},
   "outputs": [],
   "source": [
    "#calclulate the sum of all heights\n",
    "AllHeights = df.loc[:,'Height']\n",
    "numbers = Share()\n",
    "numbers = [ Share(num).shares for num in list(AllHeights) ]\n",
    "sumHeights = addition(numbers)"
   ]
  },
  {
   "cell_type": "code",
   "execution_count": 13,
   "metadata": {},
   "outputs": [
    {
     "data": {
      "text/plain": [
       "41.0"
      ]
     },
     "execution_count": 13,
     "metadata": {},
     "output_type": "execute_result"
    }
   ],
   "source": [
    "reconstruct_polynomial(sumHeights)"
   ]
  },
  {
   "cell_type": "code",
   "execution_count": 14,
   "metadata": {},
   "outputs": [],
   "source": [
    "# calculate the square of each age\n",
    "Ages = df.loc[:, \"Age\"]\n",
    "AgeShares = [Share(age) for age in Ages]\n",
    "squareAges = [multiplication(share,share) for share in AgeShares]"
   ]
  },
  {
   "cell_type": "code",
   "execution_count": 15,
   "metadata": {},
   "outputs": [],
   "source": [
    "# calculate the square of each height\n",
    "Heights = df.loc[:, \"Height\"]\n",
    "HeightShares = [Share(height) for height in Heights]\n",
    "squareHeights = [multiplication(share,share) for share in HeightShares]"
   ]
  },
  {
   "cell_type": "code",
   "execution_count": 16,
   "metadata": {},
   "outputs": [],
   "source": [
    "# product of Age and Height\n",
    "xy = [ multiplication(age, height) for age, height in zip(AgeShares, HeightShares) ]"
   ]
  },
  {
   "cell_type": "code",
   "execution_count": 17,
   "metadata": {},
   "outputs": [],
   "source": [
    "# sum of squares of Ages\n",
    "squareAgesShares = [age.shares for age in squareAges]\n",
    "SumSquareAges = addition(squareAgesShares)"
   ]
  },
  {
   "cell_type": "code",
   "execution_count": 18,
   "metadata": {},
   "outputs": [
    {
     "data": {
      "text/plain": [
       "168.0"
      ]
     },
     "execution_count": 18,
     "metadata": {},
     "output_type": "execute_result"
    }
   ],
   "source": [
    "reconstruct_polynomial(SumSquareAges)"
   ]
  },
  {
   "cell_type": "code",
   "execution_count": 19,
   "metadata": {},
   "outputs": [],
   "source": [
    "# sum of the (product of Age and Height)\n",
    "xyShares = [ num.shares for num in xy ]\n",
    "sumXY = addition(xyShares)\n"
   ]
  },
  {
   "cell_type": "code",
   "execution_count": 20,
   "metadata": {},
   "outputs": [
    {
     "data": {
      "text/plain": [
       "263.0"
      ]
     },
     "execution_count": 20,
     "metadata": {},
     "output_type": "execute_result"
    }
   ],
   "source": [
    "reconstruct_polynomial(sumXY)"
   ]
  },
  {
   "cell_type": "code",
   "execution_count": 21,
   "metadata": {},
   "outputs": [],
   "source": [
    "# total number of rows of the dataset\n",
    "numRows = Share(len(df.index))"
   ]
  },
  {
   "cell_type": "code",
   "execution_count": 22,
   "metadata": {},
   "outputs": [
    {
     "data": {
      "text/plain": [
       "5.0"
      ]
     },
     "execution_count": 22,
     "metadata": {},
     "output_type": "execute_result"
    }
   ],
   "source": [
    "reconstruct_polynomial(numRows)"
   ]
  },
  {
   "cell_type": "code",
   "execution_count": 23,
   "metadata": {},
   "outputs": [],
   "source": [
    "#calculate the slope m\n",
    "# m = var1 - var2 / var3 - var4\n",
    "var1 = multiplication(sumXY, numRows)\n",
    "var2 = multiplication(sumHeights,sumAge)\n",
    "var3 = multiplication(SumSquareAges, numRows)\n",
    "var4 = multiplication(sumAge, sumAge)\n",
    "\n",
    "var12 = subtraction([var1.shares,var2.shares])\n",
    "var34 = subtraction([var3.shares, var4.shares])\n",
    "m = division(var12,var34)"
   ]
  },
  {
   "cell_type": "code",
   "execution_count": 24,
   "metadata": {},
   "outputs": [
    {
     "data": {
      "text/plain": [
       "1.52"
      ]
     },
     "execution_count": 24,
     "metadata": {},
     "output_type": "execute_result"
    }
   ],
   "source": [
    "reconstruct_polynomial(m)"
   ]
  },
  {
   "cell_type": "code",
   "execution_count": 30,
   "metadata": {},
   "outputs": [
    {
     "name": "stdout",
     "output_type": "stream",
     "text": [
      "0.3\n"
     ]
    }
   ],
   "source": [
    "#calculate the intercept b\n",
    "# b = (sumHeights - m * sumAge) / numRowsa\n",
    "var5 = multiplication(m, sumAge)\n",
    "var6 = subtraction([sumHeights.shares, var5.shares])\n",
    "b = division(var6, numRows)\n",
    "print(reconstruct_polynomial(b))"
   ]
  },
  {
   "cell_type": "code",
   "execution_count": 39,
   "metadata": {},
   "outputs": [],
   "source": [
    "# the formula of linear regression is \n",
    "# y = m*x + b \n",
    "# where x is the input age\n",
    "myAge = Share(8)\n",
    "mx = multiplication(m, myAge)\n",
    "res = addition([mx.shares, b.shares])"
   ]
  },
  {
   "cell_type": "code",
   "execution_count": 40,
   "metadata": {},
   "outputs": [
    {
     "data": {
      "text/plain": [
       "12.5"
      ]
     },
     "execution_count": 40,
     "metadata": {},
     "output_type": "execute_result"
    }
   ],
   "source": [
    "reconstruct_polynomial(res)"
   ]
  },
  {
   "cell_type": "code",
   "execution_count": null,
   "metadata": {},
   "outputs": [],
   "source": []
  }
 ],
 "metadata": {
  "kernelspec": {
   "display_name": "Python 3",
   "language": "python",
   "name": "python3"
  },
  "language_info": {
   "codemirror_mode": {
    "name": "ipython",
    "version": 3
   },
   "file_extension": ".py",
   "mimetype": "text/x-python",
   "name": "python",
   "nbconvert_exporter": "python",
   "pygments_lexer": "ipython3",
   "version": "3.6.4"
  }
 },
 "nbformat": 4,
 "nbformat_minor": 2
}
