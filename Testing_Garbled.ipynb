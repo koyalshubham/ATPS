{
 "cells": [
  {
   "cell_type": "code",
   "execution_count": 1,
   "metadata": {},
   "outputs": [],
   "source": [
    "from alice import *"
   ]
  },
  {
   "cell_type": "code",
   "execution_count": 2,
   "metadata": {},
   "outputs": [],
   "source": [
    "on_input_gates = [[0, \"AND\", [0,1]], [1,\"XOR\", [2,3]],\n",
    "                 [2, \"OR\", [0,3]]]\n",
    "mid_gates = [[3,\"XOR\", [0,1]], [4, \"OR\", [1,2]]]\n",
    "output_gates = [[5, \"OR\", [3,4]]]\n",
    "mycric = Circuit(4, on_input_gates, mid_gates, output_gates)"
   ]
  },
  {
   "cell_type": "code",
   "execution_count": 3,
   "metadata": {},
   "outputs": [
    {
     "data": {
      "text/plain": [
       "[{0: b'n9VenKbIc3SSL8afm-vWyXDcAK1gyY26-3T5owuYO1Y=',\n",
       "  1: b'r2Tk4whuWPS3v6mlFJPYPKmAdCVR_93pNEKkWH5VdVs='},\n",
       " {0: b'k5PSTFNcrHQd7A8t7_dlcT0ZldjB863bFEi7ZMG6HNE=',\n",
       "  1: b'0TA5rjyuWLfn6ZU_nCZSYAX145spdWFRH9eNPziZfY4='},\n",
       " {0: b'epDgGrDmM_jcggs9WUTVO8M4jDoz7_cCFv7ahX94C3Q=',\n",
       "  1: b'txSUTVT4K35gw591lcYfeGSA3PtDttzH2300--EGAN8='},\n",
       " {0: b'LncskJlYAjpeHaUdI-9gCKeqclljS_BhITQyMMTRTh8=',\n",
       "  1: b'Pb8M6cG5TtzpUEbrkNA7KyqYoS38h8VkABTXtaCNzTg='}]"
      ]
     },
     "execution_count": 3,
     "metadata": {},
     "output_type": "execute_result"
    }
   ],
   "source": [
    "mycric.poss_inputs"
   ]
  },
  {
   "cell_type": "code",
   "execution_count": 39,
   "metadata": {},
   "outputs": [
    {
     "data": {
      "text/plain": [
       "[b'n9VenKbIc3SSL8afm-vWyXDcAK1gyY26-3T5owuYO1Y=',\n",
       " b'0TA5rjyuWLfn6ZU_nCZSYAX145spdWFRH9eNPziZfY4=',\n",
       " b'epDgGrDmM_jcggs9WUTVO8M4jDoz7_cCFv7ahX94C3Q=',\n",
       " b'Pb8M6cG5TtzpUEbrkNA7KyqYoS38h8VkABTXtaCNzTg=']"
      ]
     },
     "execution_count": 39,
     "metadata": {},
     "output_type": "execute_result"
    }
   ],
   "source": [
    "my_input = [x[y] for x, y in zip(mycric.poss_inputs, [0, 1, 0, 1])]\n",
    "my_input"
   ]
  },
  {
   "cell_type": "code",
   "execution_count": 5,
   "metadata": {
    "collapsed": true
   },
   "outputs": [
    {
     "name": "stdout",
     "output_type": "stream",
     "text": [
      "0 {0: b'n9VenKbIc3SSL8afm-vWyXDcAK1gyY26-3T5owuYO1Y=', 1: b'0TA5rjyuWLfn6ZU_nCZSYAX145spdWFRH9eNPziZfY4='} [b'gAAAAABdw92ifhGTH44wZw6od-plTLs9uuznfmuW4l_mtdhfkMuFnr9dV29tqfhe9YJoxR1d-rmbYqgkB1xf2lPyhlb2uMYwFv-nnY1D0c1mTs6mV-8fJOiEY-NTijoP_LYjrySMD2S7tx6U5P165lRm-NpkqhovfdECpoRHIG8fYULjdxOnfN68O_gSnEGQMvQBMqogUHx5j44UMpXhYrDt81vvpG36Mn7TjqQhf6a6Io9XraqvIPWBEFi68fb4z2kPrPg-9g_4', b'gAAAAABdw92iu2m-AUeviKvqk2AUnEGVJZiGbfqBEVgMRTiey9J_UnFDQtzzF67pJaOt3SRm7nlDOoCWfGtzZBP9jl7CIZsO0Oa4j2XC0m9xRV2tYZxf1ByatZWiFkXnGzePqrKiyusnDlsuLEcarE5lHT2NNtKK6AZf0IDThxu1lvGOqA2eo47R4whaWeUG8jrOforABLd9uTyzVQrF0MfqqrcMxPMt35eBNx_ldmhqJVvrrnh7dcevQo4Xfz7vxQqbaxNKhu30', b'gAAAAABdw92iA4PqeQZDeO2D_xwpuG9Q1kujOJHUWDdq3CYt2LD1aZlnCPX4qKU2ynfQ7143z_VcGHNE8tismmGMEUyW2w4KYIZPlhS7SSjPUiN50XBpDUyYWWTFHDIGQYNRR97MTvpmmqREXgHTU9LMSCQz9Tq46CWyS2ymg5b96Fafwe1fjoywnElfk4ECBiw6QmSXXebsLApRKYGUWcFkHtzEQ13deELsKUkNRL0aoFtTmujdzncXO19W7xgOOtHZK9wlV2GW', b'gAAAAABdw92iF2Fm7Q-9mCWXPzw3GxMhZd17Gwudl4ZyFrT2HzyAHs2Opo61FyC44lbjmuBicHYalDrmrviiWCwyqbcincCBvjW7c4GccCq54p6At7xVh-plYxepdfVsGt9Rapr5sGJuKRsAVq9SxQLEhGlSRah485hax2ucXz_5NLq6lwnkI1KmFAnf8ZTSj8AJNcEXpSdLN99DM0MdF9gzOG6ly_wOSbsjc_FwKK4CENmZyp9DfCws3RcJAssxMrUGeEk_huno']\n",
      "1 {0: b'epDgGrDmM_jcggs9WUTVO8M4jDoz7_cCFv7ahX94C3Q=', 1: b'Pb8M6cG5TtzpUEbrkNA7KyqYoS38h8VkABTXtaCNzTg='} [b'gAAAAABdw92id7KLTUzf6iVs7YA7LXgmmaJqDPs11G6Ls_Kw4cSYxDf9xCnmjgzPIQeH0kK9EdUC1ZmcTQWsYSMV5oc4ty_U2HvZf4GId5Lm9RxRHpIzvFz3WvaKsu3vBSE49iFu7U5CcRoqX_4nDhE1ztW_yTVdCHi3TvN0T3Jbx3O-2Dlw0gWbaKQIHKBLyH7NuKA18pbw2Ps8ZZXArEgDgpnog9TzrbtF6eLYOO77PWCHm8HKg5K1yyvTM95Ag1bsyuQktm2W', b'gAAAAABdw92iO08E3xjtBUzhgI9PX-teU1gICun5Y205mg8prx-wWqjxg5YxYVsEqPDXNJdcmCG16ZyqvoxnB0xQcIMIIBQPYeCNzCmHTigkGZA6a9C_z8WkQqaapTSUEgBcWVOnfDS9sbKNiCcbFVPoROZ_1wQyrjr0xWGoFU45YQGomDY3IdtZ-wlJaAbj79NbEvd9DJsPKc5cS2S42GXZY09oDyS5Tmx8emKQXCzi8UTgohjcs4VRM4Mv17LPwL3Kyv2Jgv9z', b'gAAAAABdw92iXrlqboSxdw2Yta04YYA66A4kKQb6jnxSWT6Y0Dyl8jf4Q7RdNhSUyn2oxIa_hGnO1y_iyoZtGV284pqsW5ovLdi_9W7NX5BaG4eOYm8ojHUFKDUzQqFIqskWWUrm0Bj-0RUYo2GQC-iuGccBcmbvrbpvknjpg2x2Vws7UrugN-tM8lD-TVLCbKUD_i6zmJm4Tl0XQlgMzZ3X2sOUv48g8B_S7LcBs3o94gHhAPRIhFZTLzy1pBHQ8ytG2eLpVtxu', b'gAAAAABdw92iUsinpQNJgcb1L6YxuEvdjrByBUnM7RYsO02cpw4gvCmaPqQTyDt_hLiRnPQ6LUHCvCz0-TOtQ2f--_GJ3VE4vrtLolIOLSgX5Jt-xJ4MXor2wCkpRy10rfEDGbTD3SeIKLJU2lxJ-wt-N342-pweHA6Zuoisun2tapHwgq-buiCrRX-LvwnlKuQ09kAvBnPsUrTeQkoGiwxL4r3WO4VVG77IRAAcER9qjFnsp7QHhcWrLMLj6q-LkzldKCd7v37Y']\n",
      "3 {0: b'VHneBbKz0_AwcVB6t3oNVYk2vaEiebqtcEnVGlmd64o=', 1: b'MqXL3mrjhhvYQlQoRK2BAb5M768yHqunkskDHMGrNoo='} [b'gAAAAABdw92i8nSwbM2WB_ZJvuwq4dvENe2pu8sMd1Vpuj9ZHO1ph3tyAHvR6HOQgxUDIFDn5GGF1z0KXfWkBzV3ItyGaiEz-s7V6K66Hqhd9txDiAxj_nAbZtOH6brUTD35nLburfpJoQlNLHfW_ELzapXce1Q2F77TxUd3oj7FiN5wDYrjSi4-RQEtthP9OnM99q_-di2bHRv3r3UFedfi0n8J0HpsOrkD2uozZfxjwOFPPFoAU24Q4WyDUbsq0_QPkKf17F82', b'gAAAAABdw92ib8XQeY9c-tucHzlWgmHofryWzkbhqB1bEZMltao0UwbiZmp_avbVk_FJbiyaBxqoA5NYKWBSOxJgs4TJ4dGwQjC2OqjxKAt0yLXkpfzOKVijbth3XIF5QNd7wei9xoL9ez9j6yZojXi0RSU31LunDOVWEfujt7CGU2BwRRpTAcP0JlH86AZEfoJvmYcyPfktfy7_P9zXuIrfS2FLw_gnRU-6aKEb8uSYBkLzNPPOzUWtm2L6XdTNsbSUNbkuIpyy', b'gAAAAABdw92iVP_f2yvde5mC81MEisKPIgvvAu2FL3Ic2wBUulszV5aK0lMXHK14QNjGOmWf3e8FMb2fpF3wH7JUsRKbYRguPFS3hQA41OpcfuyeWddHpQ_WDuIne9GynjLDiO7EowsfLMMVO5g1O23md6xKP95AdoqMu54tU6nXTVENQCnsNL1rhTi0m9m_4Ypex5SmE5BJEhY3aYWw8NBA_JwMnMAfBziZyUeOh68mCK_QIG6IC_ZQxmLTj0q4QuaBNHnbcyeE', b'gAAAAABdw92iSMva6sJ0aSMBZ1rRlDOEPe4GpYWqO8AmkNXExb6YKAx6fGShBkRLlq7lRGCF_8w10efgFdvcPr9Ui_x8MaHRdXKVEIy6Tf59XIFHJ8yhoOcULDRDhQJNuG5RedYyyQr1hOat-9FdxCtNx6GWymXfLtqCVQhb5yqfN60guahz1wL2H5d4gMGW8RWr7BRClYDpIfweXcVtRlv9DJknScSuXhSYVTsBKV3dV7gUVcHm1Y7qdYh9qO4swetmNzMjjMXF']\n",
      "2 {0: b'n9VenKbIc3SSL8afm-vWyXDcAK1gyY26-3T5owuYO1Y=', 1: b'Pb8M6cG5TtzpUEbrkNA7KyqYoS38h8VkABTXtaCNzTg='} [b'gAAAAABdw92iRrHjZopQf0H_3E_O6NF08zFqFsY3aMrKhcKfCkhLx-R6XPuT1pEAyPxZJ_WnyVCyHTN7T1Xh2bd75SE-JBACjDRP6ProZkykF3Rmr2dR8jLNjGuTvH8JVhfnIBfFjrL7Ix9Mw9eiawCRHOPqfHeMwboPo0PGLM3Qe-74GuetJdUDisxI7XiI7V3CJ12EYWQ-kXAcwaQ8bMShcih-dhuVS5-yXlBkMW_NSu3SLcIQyP0lMBiWPA62EbcLcHqttEcZ', b'gAAAAABdw92iLo8Bp0476m3NSa7Ue-Xs_cw-mW0gJzMkIh99TXChAPYWi7bPUI2mYxsUc2Bz4Q3xOiGhNZhk8hYjvrPEY6CG8XBzaH9uZGDmSd20rZMRN6nbMRLLhOxoJOVa9eJcjQpoOLUy1hrbCZdJ3qlhzg0qUUoBE8z6vDUeeUfRkrHgN64EiTiMqjnCjZmPvUhXntw1O8pIEEbmDWII8OcDtTIcITWGmQUGzaI1lxInko7pCS3KuyeI5d88oebm9DUhIe_O', b'gAAAAABdw92i-4DiWNWN8PzMFJh071Ha4G5JUWH01KXb0Su3KpI9N8BIXRIXlSVrEtSjaePBHXuYmTftoV-JOe84FSwkgZ9G7JAx9EuzcCrEdAzCOU0BheQb7eSnUxWMaX7koTv_2BqlTG-qW0Uq20lQk44jyvUwssTj6Gq9I6fwJaTo-y4dvD_jF2D7efR2JzJFpsfEVtaX14x5qkm-I8qXpuIrhNbexRy37KlUTU1MQgj0UA8DEtb2-H2Pg9d-tv2UiVRJfF5l', b'gAAAAABdw92i0XF8Qj9FA1n_hk30eTxcWPCoFRani-NPhsEHzVVV3J0D4tmrV2_GG0SCbU8g9mAQ6JFhOFHz_5ErnQTIzA_I4YLi-6xDBP9fDjJaEffbKogkgpOP77RX42AeO0f1m7SR44h722jgfupL5XUNW52zoHYUWfUaSZifG6r4ceziH7MYRNo6e0ZYu_5RqafNon_WOC7-P2ZrwrL9mOkcxsrjW6I-C9pqnsgm5pMcFduK1rlT0uY1yx47wQ2bD3jeq3Nw']\n",
      "4 {0: b'MqXL3mrjhhvYQlQoRK2BAb5M768yHqunkskDHMGrNoo=', 1: b'cZGO9oeqm07WDvR9X5r-eXz3YC3owwu7ZaifOrgoLIY='} [b'gAAAAABdw92im0vbXB_AGbtWEUF_7_85MxcqGfb2nG34fz-NVCflVOdEUa86sU1W646kl4b91zToBAkJFc4vTxdsZqo4LXmBcY7OuWlGPJxR8XNxe0DPaNauiLqOaLPYFqFR1DmibIKikmHA67AAMahPpIzqwecjOdzO0FVH9uXwfFBMsUzrH8aVfmV6F6QEUoW6y46Gc8SCDybs0vp9fX36_-ZG6I3RtA_pDvMj6w_hLOWAIZgR_B4dGiKs5Y-xsw3uTUeATQPV', b'gAAAAABdw92ixTXAwIo7RFj-MYTOiuVE6wC1FIqCwms3mXMvhNgDrDCM-uQRWIYywGJPHGyCd1wBLOKvG75MuMbNLJdeZXvp6omS1rpBtuo9LEz_2BZJoO8vSBAyK2e50bMMRW2bEZK2v8t9lHbEkvVeyB8e4mfKDIMReuvE7MezAfxrXw61jeX8-ojaaCUZiPyuQcwj73j5QhPVIemZL0qmJ4eYEx6lszdM8jbP3grOSUFeEStzm0SWG7M8ioaUAcPL7pbcna_O', b'gAAAAABdw92imRUbs-XYRYMbRBDBTISaA-Jn5F7RW44uH3qC2zGKc1sFqsZt4HFAi08yofwJ3Uqj2u4grHqi5b3_i85utKGfqFCou5FQpVLhZZuVCg2gmVH1wKTt9hgfSFQzQcuw-PmRi0JlqRqI9Qr8D-ntqpMV2ZvohUJKM0PNI5Og2CMvow53kxU-cF_9igunEs0idrpaImhDH0uJYIxxR-4-F0cgOm9qTiHWT-GkBr6OE6UXaAwhjyCnKawWhATf5FZj3vT-', b'gAAAAABdw92ig7tRWAySdjF4gCFhV_XQCrFEuRBtC6O4b1juz0paOKLUfjHTqt3OsogNb7n_0EhwsnhEr6XH22yBo4nqp45_GBHLZ3ugDienS2TzOQ7up5x-9rfOcgwstfvhO0CwkI-2Ui4-HnYG2gEe5Zyxku2yxNq9f9zht9RxYxllpbWgROHw7GF2zZCOaTTaGHFefmV4cR2Xcd9tJglZNG4Qr4IF0hSbUemMU5aRKqNm0PaGi32bGXdj-koL4HStFZD3VKvu']\n",
      "5 {0: b'5t8SAkUNbr91dDgIC2LXIrdlRcXq6pcP1_jetdp4KhU=', 1: b'2OoiZ6Veg2czec4JnI4LOAXZ2pq91tOtp9d9T9TY3E8='} [b'gAAAAABdw92iRe1nXTeaDBKS_qtusvBUQ4YkzjiSJ6uCxWmZdapiOClL48ppvxdwhoG7h66D_ivnki-oSvWjajbaKeO3lcimxpuAW9fnn0vfoE8mB3rmCcQFupGisI3GhvIZirR-VwV-4poiq0oco4YaHQiDvi9LwAyFS3roMyI-FKaQyeD5qtiGCW1A-TV_lqdokJTDl9r1lQhB-cb9vYgDATfKFAtRsw==', b'gAAAAABdw92iVLXTuBTB9hgvQE1LKcLKD3S9FYUGyRkIObnmqnBIcJQmqXtdMJs0Kc80rhwzf1-A0CZJCTZDM1XpBvHX-YPvHa0p0nAAoJBvQjeIlouN5GQAHyDwGUXpJ4sIdV7-Lnr01tCoBz3dIs7pdlDqTOft8PNmJPkHOmrkLwocZyvnA6c0fLvRtNoe0eJEns4G8L6dsq965xelZxYYmpf9BZoE7A==', b'gAAAAABdw92i1ADNxfkwJkyKxXZxDHZ94cdC19Pekmg5a14yUTtBtW89y8ZWGpMOrfkhw2zngmdiwMnVi_q1VAzZIMbymztZOK345lYnNmbiTaV_RcOiz_J_4g2vVqjIhjfuv4y91AFTaHAAcQHCaNxxT5HdTFx6pE5bA208HAG_XkZXKPPf_WbbbwM4_1DFYiZ0f0OnrbsJW92SYXHBZFM-lRY7VuJeLg==', b'gAAAAABdw92ic7MdULoMtVtbHKEfxvA85AvRnxtfFv9ZGiw2bXOqaBfjghjpZLf4m9at4-bQYw5UR8cZgTGmxsdEUz7PJqkTjY5rhgd0bxT83_D5dqchxtNRupE0OhcfDGz7hRHPnFZj6UZ5SL11Fz-013qSUcrhet-CfveI0IGtRMZJdVHaWsL-foIMbrKifLnfd6JhFuXuZ3KL7XZ9nxgPpTNjx0EMgA==']\n"
     ]
    },
    {
     "data": {
      "text/plain": [
       "{5: b'\\x01'}"
      ]
     },
     "execution_count": 5,
     "metadata": {},
     "output_type": "execute_result"
    }
   ],
   "source": [
    "mycric.fire(my_input)"
   ]
  },
  {
   "cell_type": "code",
   "execution_count": 19,
   "metadata": {
    "scrolled": false
   },
   "outputs": [
    {
     "data": {
      "text/plain": [
       "{'num_inputs': 4,\n",
       " 'on_input_gates': {0: {'table': [b'gAAAAABdw92ifhGTH44wZw6od-plTLs9uuznfmuW4l_mtdhfkMuFnr9dV29tqfhe9YJoxR1d-rmbYqgkB1xf2lPyhlb2uMYwFv-nnY1D0c1mTs6mV-8fJOiEY-NTijoP_LYjrySMD2S7tx6U5P165lRm-NpkqhovfdECpoRHIG8fYULjdxOnfN68O_gSnEGQMvQBMqogUHx5j44UMpXhYrDt81vvpG36Mn7TjqQhf6a6Io9XraqvIPWBEFi68fb4z2kPrPg-9g_4',\n",
       "    b'gAAAAABdw92iu2m-AUeviKvqk2AUnEGVJZiGbfqBEVgMRTiey9J_UnFDQtzzF67pJaOt3SRm7nlDOoCWfGtzZBP9jl7CIZsO0Oa4j2XC0m9xRV2tYZxf1ByatZWiFkXnGzePqrKiyusnDlsuLEcarE5lHT2NNtKK6AZf0IDThxu1lvGOqA2eo47R4whaWeUG8jrOforABLd9uTyzVQrF0MfqqrcMxPMt35eBNx_ldmhqJVvrrnh7dcevQo4Xfz7vxQqbaxNKhu30',\n",
       "    b'gAAAAABdw92iA4PqeQZDeO2D_xwpuG9Q1kujOJHUWDdq3CYt2LD1aZlnCPX4qKU2ynfQ7143z_VcGHNE8tismmGMEUyW2w4KYIZPlhS7SSjPUiN50XBpDUyYWWTFHDIGQYNRR97MTvpmmqREXgHTU9LMSCQz9Tq46CWyS2ymg5b96Fafwe1fjoywnElfk4ECBiw6QmSXXebsLApRKYGUWcFkHtzEQ13deELsKUkNRL0aoFtTmujdzncXO19W7xgOOtHZK9wlV2GW',\n",
       "    b'gAAAAABdw92iF2Fm7Q-9mCWXPzw3GxMhZd17Gwudl4ZyFrT2HzyAHs2Opo61FyC44lbjmuBicHYalDrmrviiWCwyqbcincCBvjW7c4GccCq54p6At7xVh-plYxepdfVsGt9Rapr5sGJuKRsAVq9SxQLEhGlSRah485hax2ucXz_5NLq6lwnkI1KmFAnf8ZTSj8AJNcEXpSdLN99DM0MdF9gzOG6ly_wOSbsjc_FwKK4CENmZyp9DfCws3RcJAssxMrUGeEk_huno'],\n",
       "   'inputs': {0: 0, 1: 1}},\n",
       "  1: {'table': [b'gAAAAABdw92id7KLTUzf6iVs7YA7LXgmmaJqDPs11G6Ls_Kw4cSYxDf9xCnmjgzPIQeH0kK9EdUC1ZmcTQWsYSMV5oc4ty_U2HvZf4GId5Lm9RxRHpIzvFz3WvaKsu3vBSE49iFu7U5CcRoqX_4nDhE1ztW_yTVdCHi3TvN0T3Jbx3O-2Dlw0gWbaKQIHKBLyH7NuKA18pbw2Ps8ZZXArEgDgpnog9TzrbtF6eLYOO77PWCHm8HKg5K1yyvTM95Ag1bsyuQktm2W',\n",
       "    b'gAAAAABdw92iO08E3xjtBUzhgI9PX-teU1gICun5Y205mg8prx-wWqjxg5YxYVsEqPDXNJdcmCG16ZyqvoxnB0xQcIMIIBQPYeCNzCmHTigkGZA6a9C_z8WkQqaapTSUEgBcWVOnfDS9sbKNiCcbFVPoROZ_1wQyrjr0xWGoFU45YQGomDY3IdtZ-wlJaAbj79NbEvd9DJsPKc5cS2S42GXZY09oDyS5Tmx8emKQXCzi8UTgohjcs4VRM4Mv17LPwL3Kyv2Jgv9z',\n",
       "    b'gAAAAABdw92iXrlqboSxdw2Yta04YYA66A4kKQb6jnxSWT6Y0Dyl8jf4Q7RdNhSUyn2oxIa_hGnO1y_iyoZtGV284pqsW5ovLdi_9W7NX5BaG4eOYm8ojHUFKDUzQqFIqskWWUrm0Bj-0RUYo2GQC-iuGccBcmbvrbpvknjpg2x2Vws7UrugN-tM8lD-TVLCbKUD_i6zmJm4Tl0XQlgMzZ3X2sOUv48g8B_S7LcBs3o94gHhAPRIhFZTLzy1pBHQ8ytG2eLpVtxu',\n",
       "    b'gAAAAABdw92iUsinpQNJgcb1L6YxuEvdjrByBUnM7RYsO02cpw4gvCmaPqQTyDt_hLiRnPQ6LUHCvCz0-TOtQ2f--_GJ3VE4vrtLolIOLSgX5Jt-xJ4MXor2wCkpRy10rfEDGbTD3SeIKLJU2lxJ-wt-N342-pweHA6Zuoisun2tapHwgq-buiCrRX-LvwnlKuQ09kAvBnPsUrTeQkoGiwxL4r3WO4VVG77IRAAcER9qjFnsp7QHhcWrLMLj6q-LkzldKCd7v37Y'],\n",
       "   'inputs': {0: 2, 1: 3}},\n",
       "  2: {'table': [b'gAAAAABdw92iRrHjZopQf0H_3E_O6NF08zFqFsY3aMrKhcKfCkhLx-R6XPuT1pEAyPxZJ_WnyVCyHTN7T1Xh2bd75SE-JBACjDRP6ProZkykF3Rmr2dR8jLNjGuTvH8JVhfnIBfFjrL7Ix9Mw9eiawCRHOPqfHeMwboPo0PGLM3Qe-74GuetJdUDisxI7XiI7V3CJ12EYWQ-kXAcwaQ8bMShcih-dhuVS5-yXlBkMW_NSu3SLcIQyP0lMBiWPA62EbcLcHqttEcZ',\n",
       "    b'gAAAAABdw92iLo8Bp0476m3NSa7Ue-Xs_cw-mW0gJzMkIh99TXChAPYWi7bPUI2mYxsUc2Bz4Q3xOiGhNZhk8hYjvrPEY6CG8XBzaH9uZGDmSd20rZMRN6nbMRLLhOxoJOVa9eJcjQpoOLUy1hrbCZdJ3qlhzg0qUUoBE8z6vDUeeUfRkrHgN64EiTiMqjnCjZmPvUhXntw1O8pIEEbmDWII8OcDtTIcITWGmQUGzaI1lxInko7pCS3KuyeI5d88oebm9DUhIe_O',\n",
       "    b'gAAAAABdw92i-4DiWNWN8PzMFJh071Ha4G5JUWH01KXb0Su3KpI9N8BIXRIXlSVrEtSjaePBHXuYmTftoV-JOe84FSwkgZ9G7JAx9EuzcCrEdAzCOU0BheQb7eSnUxWMaX7koTv_2BqlTG-qW0Uq20lQk44jyvUwssTj6Gq9I6fwJaTo-y4dvD_jF2D7efR2JzJFpsfEVtaX14x5qkm-I8qXpuIrhNbexRy37KlUTU1MQgj0UA8DEtb2-H2Pg9d-tv2UiVRJfF5l',\n",
       "    b'gAAAAABdw92i0XF8Qj9FA1n_hk30eTxcWPCoFRani-NPhsEHzVVV3J0D4tmrV2_GG0SCbU8g9mAQ6JFhOFHz_5ErnQTIzA_I4YLi-6xDBP9fDjJaEffbKogkgpOP77RX42AeO0f1m7SR44h722jgfupL5XUNW52zoHYUWfUaSZifG6r4ceziH7MYRNo6e0ZYu_5RqafNon_WOC7-P2ZrwrL9mOkcxsrjW6I-C9pqnsgm5pMcFduK1rlT0uY1yx47wQ2bD3jeq3Nw'],\n",
       "   'inputs': {0: 0, 1: 3}}},\n",
       " 'gates': {3: {'table': [b'gAAAAABdw92i8nSwbM2WB_ZJvuwq4dvENe2pu8sMd1Vpuj9ZHO1ph3tyAHvR6HOQgxUDIFDn5GGF1z0KXfWkBzV3ItyGaiEz-s7V6K66Hqhd9txDiAxj_nAbZtOH6brUTD35nLburfpJoQlNLHfW_ELzapXce1Q2F77TxUd3oj7FiN5wDYrjSi4-RQEtthP9OnM99q_-di2bHRv3r3UFedfi0n8J0HpsOrkD2uozZfxjwOFPPFoAU24Q4WyDUbsq0_QPkKf17F82',\n",
       "    b'gAAAAABdw92ib8XQeY9c-tucHzlWgmHofryWzkbhqB1bEZMltao0UwbiZmp_avbVk_FJbiyaBxqoA5NYKWBSOxJgs4TJ4dGwQjC2OqjxKAt0yLXkpfzOKVijbth3XIF5QNd7wei9xoL9ez9j6yZojXi0RSU31LunDOVWEfujt7CGU2BwRRpTAcP0JlH86AZEfoJvmYcyPfktfy7_P9zXuIrfS2FLw_gnRU-6aKEb8uSYBkLzNPPOzUWtm2L6XdTNsbSUNbkuIpyy',\n",
       "    b'gAAAAABdw92iVP_f2yvde5mC81MEisKPIgvvAu2FL3Ic2wBUulszV5aK0lMXHK14QNjGOmWf3e8FMb2fpF3wH7JUsRKbYRguPFS3hQA41OpcfuyeWddHpQ_WDuIne9GynjLDiO7EowsfLMMVO5g1O23md6xKP95AdoqMu54tU6nXTVENQCnsNL1rhTi0m9m_4Ypex5SmE5BJEhY3aYWw8NBA_JwMnMAfBziZyUeOh68mCK_QIG6IC_ZQxmLTj0q4QuaBNHnbcyeE',\n",
       "    b'gAAAAABdw92iSMva6sJ0aSMBZ1rRlDOEPe4GpYWqO8AmkNXExb6YKAx6fGShBkRLlq7lRGCF_8w10efgFdvcPr9Ui_x8MaHRdXKVEIy6Tf59XIFHJ8yhoOcULDRDhQJNuG5RedYyyQr1hOat-9FdxCtNx6GWymXfLtqCVQhb5yqfN60guahz1wL2H5d4gMGW8RWr7BRClYDpIfweXcVtRlv9DJknScSuXhSYVTsBKV3dV7gUVcHm1Y7qdYh9qO4swetmNzMjjMXF'],\n",
       "   'inputs': {0: 0, 1: 1}},\n",
       "  4: {'table': [b'gAAAAABdw92im0vbXB_AGbtWEUF_7_85MxcqGfb2nG34fz-NVCflVOdEUa86sU1W646kl4b91zToBAkJFc4vTxdsZqo4LXmBcY7OuWlGPJxR8XNxe0DPaNauiLqOaLPYFqFR1DmibIKikmHA67AAMahPpIzqwecjOdzO0FVH9uXwfFBMsUzrH8aVfmV6F6QEUoW6y46Gc8SCDybs0vp9fX36_-ZG6I3RtA_pDvMj6w_hLOWAIZgR_B4dGiKs5Y-xsw3uTUeATQPV',\n",
       "    b'gAAAAABdw92ixTXAwIo7RFj-MYTOiuVE6wC1FIqCwms3mXMvhNgDrDCM-uQRWIYywGJPHGyCd1wBLOKvG75MuMbNLJdeZXvp6omS1rpBtuo9LEz_2BZJoO8vSBAyK2e50bMMRW2bEZK2v8t9lHbEkvVeyB8e4mfKDIMReuvE7MezAfxrXw61jeX8-ojaaCUZiPyuQcwj73j5QhPVIemZL0qmJ4eYEx6lszdM8jbP3grOSUFeEStzm0SWG7M8ioaUAcPL7pbcna_O',\n",
       "    b'gAAAAABdw92imRUbs-XYRYMbRBDBTISaA-Jn5F7RW44uH3qC2zGKc1sFqsZt4HFAi08yofwJ3Uqj2u4grHqi5b3_i85utKGfqFCou5FQpVLhZZuVCg2gmVH1wKTt9hgfSFQzQcuw-PmRi0JlqRqI9Qr8D-ntqpMV2ZvohUJKM0PNI5Og2CMvow53kxU-cF_9igunEs0idrpaImhDH0uJYIxxR-4-F0cgOm9qTiHWT-GkBr6OE6UXaAwhjyCnKawWhATf5FZj3vT-',\n",
       "    b'gAAAAABdw92ig7tRWAySdjF4gCFhV_XQCrFEuRBtC6O4b1juz0paOKLUfjHTqt3OsogNb7n_0EhwsnhEr6XH22yBo4nqp45_GBHLZ3ugDienS2TzOQ7up5x-9rfOcgwstfvhO0CwkI-2Ui4-HnYG2gEe5Zyxku2yxNq9f9zht9RxYxllpbWgROHw7GF2zZCOaTTaGHFefmV4cR2Xcd9tJglZNG4Qr4IF0hSbUemMU5aRKqNm0PaGi32bGXdj-koL4HStFZD3VKvu'],\n",
       "   'inputs': {0: 1, 1: 2}},\n",
       "  5: {'table': [b'gAAAAABdw92iRe1nXTeaDBKS_qtusvBUQ4YkzjiSJ6uCxWmZdapiOClL48ppvxdwhoG7h66D_ivnki-oSvWjajbaKeO3lcimxpuAW9fnn0vfoE8mB3rmCcQFupGisI3GhvIZirR-VwV-4poiq0oco4YaHQiDvi9LwAyFS3roMyI-FKaQyeD5qtiGCW1A-TV_lqdokJTDl9r1lQhB-cb9vYgDATfKFAtRsw==',\n",
       "    b'gAAAAABdw92iVLXTuBTB9hgvQE1LKcLKD3S9FYUGyRkIObnmqnBIcJQmqXtdMJs0Kc80rhwzf1-A0CZJCTZDM1XpBvHX-YPvHa0p0nAAoJBvQjeIlouN5GQAHyDwGUXpJ4sIdV7-Lnr01tCoBz3dIs7pdlDqTOft8PNmJPkHOmrkLwocZyvnA6c0fLvRtNoe0eJEns4G8L6dsq965xelZxYYmpf9BZoE7A==',\n",
       "    b'gAAAAABdw92i1ADNxfkwJkyKxXZxDHZ94cdC19Pekmg5a14yUTtBtW89y8ZWGpMOrfkhw2zngmdiwMnVi_q1VAzZIMbymztZOK345lYnNmbiTaV_RcOiz_J_4g2vVqjIhjfuv4y91AFTaHAAcQHCaNxxT5HdTFx6pE5bA208HAG_XkZXKPPf_WbbbwM4_1DFYiZ0f0OnrbsJW92SYXHBZFM-lRY7VuJeLg==',\n",
       "    b'gAAAAABdw92ic7MdULoMtVtbHKEfxvA85AvRnxtfFv9ZGiw2bXOqaBfjghjpZLf4m9at4-bQYw5UR8cZgTGmxsdEUz7PJqkTjY5rhgd0bxT83_D5dqchxtNRupE0OhcfDGz7hRHPnFZj6UZ5SL11Fz-013qSUcrhet-CfveI0IGtRMZJdVHaWsL-foIMbrKifLnfd6JhFuXuZ3KL7XZ9nxgPpTNjx0EMgA=='],\n",
       "   'inputs': {0: 3, 1: 4}}},\n",
       " 'output_gate_ids': [5]}"
      ]
     },
     "execution_count": 19,
     "metadata": {},
     "output_type": "execute_result"
    }
   ],
   "source": [
    "j = mycric.prep_for_json()\n",
    "json_data = j\n",
    "json_data"
   ]
  },
  {
   "cell_type": "code",
   "execution_count": 23,
   "metadata": {},
   "outputs": [],
   "source": [
    "from ot import *"
   ]
  },
  {
   "cell_type": "code",
   "execution_count": 24,
   "metadata": {},
   "outputs": [
    {
     "data": {
      "text/plain": [
       "[b'GCnLvwmQ35U0VXJ_h2i3w7TJDLjpjrJZjDTo2bTTHeI=',\n",
       " b'O10T3pXFavkl4ebh3VjKciM95Xc0a4IGaI8edcwKNYM=']"
      ]
     },
     "execution_count": 24,
     "metadata": {},
     "output_type": "execute_result"
    }
   ],
   "source": [
    "from alice import keypair\n",
    "my_keypair = list(keypair().values())\n",
    "my_keypair"
   ]
  },
  {
   "cell_type": "code",
   "execution_count": 25,
   "metadata": {},
   "outputs": [],
   "source": [
    "alice = Alice(my_keypair)"
   ]
  },
  {
   "cell_type": "code",
   "execution_count": 26,
   "metadata": {},
   "outputs": [
    {
     "name": "stdout",
     "output_type": "stream",
     "text": [
      "Pubkey and hashes published.\n"
     ]
    }
   ],
   "source": [
    "alice.setup()"
   ]
  },
  {
   "cell_type": "code",
   "execution_count": 34,
   "metadata": {},
   "outputs": [
    {
     "name": "stdout",
     "output_type": "stream",
     "text": [
      "Polynomial published.\n"
     ]
    }
   ],
   "source": [
    "from ot import *\n",
    "bob = Bob(1,[1])\n",
    "bob.setup()"
   ]
  },
  {
   "cell_type": "code",
   "execution_count": 35,
   "metadata": {},
   "outputs": [
    {
     "name": "stdout",
     "output_type": "stream",
     "text": [
      "G has been published.\n"
     ]
    }
   ],
   "source": [
    "alice.transmit()"
   ]
  },
  {
   "cell_type": "code",
   "execution_count": 37,
   "metadata": {},
   "outputs": [
    {
     "name": "stdout",
     "output_type": "stream",
     "text": [
      "<class 'bigfloat.core.BigFloat'>\n"
     ]
    },
    {
     "data": {
      "text/plain": [
       "[b'O10T3pXFavkl4ebh3VjKciM95Xc0a4IGaI8edcwKNYM=']"
      ]
     },
     "execution_count": 37,
     "metadata": {},
     "output_type": "execute_result"
    }
   ],
   "source": [
    "bob.receive()"
   ]
  },
  {
   "cell_type": "code",
   "execution_count": 40,
   "metadata": {},
   "outputs": [
    {
     "data": {
      "text/plain": [
       "list"
      ]
     },
     "execution_count": 40,
     "metadata": {},
     "output_type": "execute_result"
    }
   ],
   "source": [
    "type([0, 1, 0, 1])"
   ]
  },
  {
   "cell_type": "code",
   "execution_count": null,
   "metadata": {},
   "outputs": [],
   "source": []
  }
 ],
 "metadata": {
  "kernelspec": {
   "display_name": "Python 3",
   "language": "python",
   "name": "python3"
  },
  "language_info": {
   "codemirror_mode": {
    "name": "ipython",
    "version": 3
   },
   "file_extension": ".py",
   "mimetype": "text/x-python",
   "name": "python",
   "nbconvert_exporter": "python",
   "pygments_lexer": "ipython3",
   "version": "3.6.8"
  }
 },
 "nbformat": 4,
 "nbformat_minor": 2
}
